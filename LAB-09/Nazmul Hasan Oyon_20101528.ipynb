{
 "cells": [
  {
   "cell_type": "code",
   "execution_count": 1,
   "metadata": {},
   "outputs": [
    {
     "name": "stdout",
     "output_type": "stream",
     "text": [
      "Name: default Department: BBA\n",
      "Name: Humpty Dumpty Department: BBA\n",
      "Name: Little Bo Peep Department: BBA\n"
     ]
    }
   ],
   "source": [
    "#1\n",
    "class Student:\n",
    "    \n",
    "    def __init__(self, name='Just a student', dept='nothing'):\n",
    "                 self.__name = name\n",
    "                 self.__department = dept\n",
    "    def set_department(self, dept):\n",
    "                 self.__department = dept\n",
    "    def get_name(self):\n",
    "                 return self.__name\n",
    "    def set_name(self,name):\n",
    "                 self.__name = name\n",
    "    def __str__(self):\n",
    "                 return 'Name: '+self.__name+' Department: '+self.__department\n",
    "class BBA_Student(Student):\n",
    "    def __init__(self,name='default'):\n",
    "        super().__init__(name,dept='BBA')\n",
    "\n",
    "        \n",
    "             \n",
    "\n",
    "print(BBA_Student())\n",
    "print(BBA_Student('Humpty Dumpty'))\n",
    "print(BBA_Student('Little Bo Peep'))\n"
   ]
  },
  {
   "cell_type": "code",
   "execution_count": 7,
   "metadata": {},
   "outputs": [
    {
     "name": "stdout",
     "output_type": "stream",
     "text": [
      "Part 1\n",
      "------\n",
      "(0 , 0)\n",
      "(0 , 1)\n",
      "(-1 , 1)\n",
      "(-1 , 0)\n",
      "(0 , 0)\n",
      "------\n",
      "Part 2\n",
      "------\n",
      "(0 , 0)\n",
      "(-1 , -1)\n",
      "False\n",
      "True\n",
      "------\n"
     ]
    }
   ],
   "source": [
    "#2\n",
    "class Vehicle:\n",
    "    def __init__(self):   \n",
    "        self.x = 0\n",
    "        self.y = 0\n",
    "    def moveUp(self):\n",
    "        self.y+=1\n",
    "    def moveDown(self):\n",
    "        self.y-=1\n",
    "    def moveRight(self):\n",
    "        self.x+=1\n",
    "    def moveLeft(self):\n",
    "        self.x-=1\n",
    "    def __str__(self):\n",
    "        return '('+str(self.x)+' , '+str(self.y)+')'\n",
    "class Vehicle2010(Vehicle):\n",
    "    def moveUpperRight(self):\n",
    "        super().moveUp()\n",
    "        super().moveRight()\n",
    "    def moveUpperLeft(self):\n",
    "        super().moveUp()\n",
    "        super().moveLeft()\n",
    "    def moveLowerRight(self):\n",
    "        super().moveDown()\n",
    "        super().moveRight()\n",
    "    def moveLowerLeft(self):\n",
    "        super().moveDown()\n",
    "        super().moveLeft()        \n",
    "    def equals(self,other):\n",
    "        if self.x==other.x and self.y==other.y:\n",
    "            return True\n",
    "        else:\n",
    "            return False\n",
    "        \n",
    "print('Part 1')\n",
    "print('------')\n",
    "car = Vehicle()\n",
    "print(car)\n",
    "car.moveUp()\n",
    "print(car)\n",
    "car.moveLeft()\n",
    "print(car)\n",
    "car.moveDown()\n",
    "print(car)\n",
    "car.moveRight()\n",
    "print(car)\n",
    "print('------')\n",
    "print('Part 2')\n",
    "print('------')\n",
    "car1 = Vehicle2010()\n",
    "print(car1)\n",
    "car1.moveLowerLeft()\n",
    "print(car1)\n",
    "car2 = Vehicle2010()\n",
    "car2.moveLeft()\n",
    "print(car1.equals(car2))\n",
    "car2.moveDown()\n",
    "print(car1.equals(car2))\n",
    "print('------')"
   ]
  },
  {
   "cell_type": "code",
   "execution_count": 4,
   "metadata": {},
   "outputs": [
    {
     "name": "stdout",
     "output_type": "stream",
     "text": [
      "RealPart: 1.0\n",
      "ImaginaryPart: 1.0\n",
      "---------\n",
      "RealPart: 5.0\n",
      "ImaginaryPart: 7.0\n",
      "---------\n"
     ]
    }
   ],
   "source": [
    "#3\n",
    "class RealNumber:\n",
    "    def __init__(self, r=0):\n",
    "        self.__realValue = r\n",
    "    def getRealValue(self):\n",
    "        return self.__realValue\n",
    "    def setRealValue(self, r):\n",
    "        self.__realValue = r\n",
    "    def ping(self):\n",
    "        print('I am in RealNumber class')\n",
    "    def __str__(self):\n",
    "        return 'RealPart: '+str(self.getRealValue())\n",
    "    \n",
    "    \n",
    "class ComplexNumber(RealNumber):\n",
    "    def __init__(self,r=1.0,i=1.0):\n",
    "        super().__init__(float(r))\n",
    "        self.i=float(i)\n",
    "    def __str__(self):\n",
    "        s=super().__str__()\n",
    "        return s+'\\nImaginaryPart: '+str(self.i)\n",
    "    \n",
    "        \n",
    "        \n",
    "        \n",
    "    \n",
    "\n",
    "cn1 = ComplexNumber()\n",
    "print(cn1)\n",
    "print('---------')\n",
    "cn2 = ComplexNumber(5,7)\n",
    "print(cn2)\n",
    "print('---------')\n"
   ]
  },
  {
   "cell_type": "code",
   "execution_count": 1,
   "metadata": {},
   "outputs": [
    {
     "name": "stdout",
     "output_type": "stream",
     "text": [
      "Number of Checking Accounts: 0\n",
      "Account balance: 0.0\n",
      "Account balance: 100.0\n",
      "Account balance: 200.0\n",
      "Number of Checking Accounts: 3\n"
     ]
    }
   ],
   "source": [
    "#4\n",
    "class Account:\n",
    "    def __init__(self,balance):\n",
    "        self._balance = balance\n",
    "    def getBalance(self):\n",
    "        return self._balance\n",
    "class CheckingAccount(Account):\n",
    "    numberOfAccount='0'\n",
    "    def __init__(self,balance=0.0):\n",
    "        super().__init__(float(balance))\n",
    "        CheckingAccount.numberOfAccount=int(CheckingAccount.numberOfAccount)\n",
    "        CheckingAccount.numberOfAccount+=1 \n",
    "        CheckingAccount.numberOfAccount=str(CheckingAccount.numberOfAccount)\n",
    "    def __str__(self):\n",
    "        return 'Account balance: '+str(self._balance)\n",
    "        \n",
    "print('Number of Checking Accounts: '+CheckingAccount.numberOfAccount)\n",
    "print(CheckingAccount())\n",
    "print(CheckingAccount(100.00))\n",
    "print(CheckingAccount(200.00))\n",
    "print('Number of Checking Accounts: '+CheckingAccount.numberOfAccount)"
   ]
  },
  {
   "cell_type": "code",
   "execution_count": 4,
   "metadata": {},
   "outputs": [
    {
     "name": "stdout",
     "output_type": "stream",
     "text": [
      "Animal does not make sound\n",
      "meow\n",
      "bark\n"
     ]
    }
   ],
   "source": [
    "#5\n",
    "class Animal:\n",
    "    def __init__(self,sound):\n",
    "       self.__sound = sound\n",
    "    def makeSound(self):\n",
    "       return self.__sound\n",
    "class Printer:\n",
    "    def printSound(self, a):\n",
    "       print(a.makeSound())\n",
    "class Dog(Animal):\n",
    "    def __init__(self,sound):\n",
    "        super().__init__(sound)\n",
    "class Cat(Animal):\n",
    "    def __init__(self,sound):\n",
    "        super().__init__(sound)        \n",
    "d1 = Dog('bark')\n",
    "c1 = Cat('meow')\n",
    "a1 = Animal('Animal does not make sound')\n",
    "pr = Printer()\n",
    "pr.printSound(a1)\n",
    "pr.printSound(c1)\n",
    "pr.printSound(d1)"
   ]
  },
  {
   "cell_type": "code",
   "execution_count": 2,
   "metadata": {},
   "outputs": [
    {
     "name": "stdout",
     "output_type": "stream",
     "text": [
      "----Printing Detail----\n",
      "Do not eat the Mango .\n",
      "Mangoes are bad for you. \n",
      "----Printing Detail----\n",
      "Eat the Jackfruit .\n",
      "Jackfruits are good for you. \n"
     ]
    }
   ],
   "source": [
    "#6\n",
    "class Fruit:\n",
    "    def __init__(self, formalin=False, name=''):\n",
    "        self.__formalin = formalin\n",
    "        self.name = name\n",
    "    def getName(self):\n",
    "        return self.name\n",
    "    def hasFormalin(self):\n",
    "        return self.__formalin\n",
    "class testFruit:\n",
    "    def test(self, f):\n",
    "        print('----Printing Detail----')\n",
    "        if f.hasFormalin():\n",
    "            print('Do not eat the',f.getName(),'.')\n",
    "            print(f)\n",
    "        else:\n",
    "            print('Eat the',f.getName(),'.')\n",
    "            print(f)\n",
    "class Mango(Fruit):\n",
    "    def __init__(self,formalin=True,name=\"Mango\"):\n",
    "        super().__init__(formalin,name)\n",
    "    def __str__(self):\n",
    "        return f'{self.name}es are bad for you. '\n",
    "class Jackfruit(Fruit):\n",
    "    def __init__(self,formalin=False,name=\"Jackfruit\"):\n",
    "        super().__init__(formalin,name)\n",
    "    def __str__(self):\n",
    "        return f'{self.name}s are good for you. '\n",
    "m = Mango()\n",
    "j = Jackfruit()\n",
    "t1 = testFruit()\n",
    "t1.test(m)\n",
    "t1.test(j)\n"
   ]
  },
  {
   "cell_type": "code",
   "execution_count": null,
   "metadata": {},
   "outputs": [],
   "source": []
  }
 ],
 "metadata": {
  "kernelspec": {
   "display_name": "Python 3",
   "language": "python",
   "name": "python3"
  },
  "language_info": {
   "codemirror_mode": {
    "name": "ipython",
    "version": 3
   },
   "file_extension": ".py",
   "mimetype": "text/x-python",
   "name": "python",
   "nbconvert_exporter": "python",
   "pygments_lexer": "ipython3",
   "version": "3.7.6"
  }
 },
 "nbformat": 4,
 "nbformat_minor": 4
}
