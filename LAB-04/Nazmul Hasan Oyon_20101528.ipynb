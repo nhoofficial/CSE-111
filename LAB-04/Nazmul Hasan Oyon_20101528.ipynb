{
 "cells": [
  {
   "cell_type": "code",
   "execution_count": 1,
   "metadata": {},
   "outputs": [
    {
     "name": "stdout",
     "output_type": "stream",
     "text": [
      "Enter number: 0\n",
      "Enter number: 1\n",
      "Enter number: 2\n",
      "Enter number: 3\n",
      "Enter number: 4\n",
      "Enter number: 5\n",
      "Enter number: 6\n",
      "Enter number: 7\n",
      "Enter number: 8\n",
      "Enter number: 9\n",
      "[9, 8, 7, 6, 5, 4, 3, 2, 1, 0]\n"
     ]
    }
   ],
   "source": [
    "#easy1\n",
    "s=[]\n",
    "for i in range(10):\n",
    "    n=int(input(\"Enter number: \"))\n",
    "    s.append(n)\n",
    "s.reverse()\n",
    "print(s)"
   ]
  },
  {
   "cell_type": "code",
   "execution_count": 1,
   "metadata": {},
   "outputs": [
    {
     "name": "stdout",
     "output_type": "stream",
     "text": [
      "[1, 3, 5, 7, 9, 2, 4, 6, 8]\n"
     ]
    }
   ],
   "source": [
    "#easy2\n",
    "list1=[1,3,5,7,9,10]\n",
    "list2=[2,4,6,8]\n",
    "list1[-1:]=list2\n",
    "print(list1)"
   ]
  },
  {
   "cell_type": "code",
   "execution_count": 1,
   "metadata": {},
   "outputs": [
    {
     "name": "stdout",
     "output_type": "stream",
     "text": [
      "1\n",
      "2\n",
      "3\n",
      "3\n",
      "Enter another number: \n",
      "4\n",
      "5\n",
      "6\n",
      "7\n",
      "8\n",
      "9\n",
      "10\n"
     ]
    }
   ],
   "source": [
    "#easy3\n",
    "a=[]\n",
    "i=1\n",
    "while i<=10:\n",
    "    n=int(input())\n",
    "    if n not in a:\n",
    "        a.append(n)\n",
    "    else:\n",
    "        print(\"Enter another number: \")\n",
    "        i-=1\n",
    "    i+=1    \n",
    "        \n",
    "        \n",
    "        \n",
    "        \n",
    "        "
   ]
  },
  {
   "cell_type": "code",
   "execution_count": 2,
   "metadata": {},
   "outputs": [
    {
     "name": "stdout",
     "output_type": "stream",
     "text": [
      "Enter number: 10\n",
      "Enter number: 20\n",
      "Enter number: 30\n",
      "Enter number: 10\n",
      "Enter number: STOP\n",
      "10 - 2 times\n",
      "20 - 1 times\n",
      "30 - 1 times\n"
     ]
    }
   ],
   "source": [
    "#medium1\n",
    "n=[]\n",
    "while True:\n",
    "    x=input(\"Enter number: \")\n",
    "    if x ==\"STOP\":\n",
    "        break\n",
    "    \n",
    "    else:\n",
    "        n.append(int(x))\n",
    "c=0        \n",
    "for i in n:\n",
    "    if n.index(i)==c:\n",
    "        print(i,\"-\",n.count(i),\"times\")\n",
    "        c+=1\n",
    "       "
   ]
  },
  {
   "cell_type": "code",
   "execution_count": 1,
   "metadata": {},
   "outputs": [
    {
     "name": "stdout",
     "output_type": "stream",
     "text": [
      "Enter number: 4\n",
      "1 2 3\n",
      "\n",
      "4 5 6\n",
      "\n",
      "7 8 9\n",
      "\n",
      "10 11 12\n",
      "\n",
      "33\n",
      "[10, 11, 12]\n"
     ]
    }
   ],
   "source": [
    "#med2\n",
    "n=int(input(\"Enter number: \"))\n",
    "import math\n",
    "sum=[]\n",
    "li=[]\n",
    "new=[]\n",
    "for i in range(n):\n",
    "    x,y,z=input().split(\" \")\n",
    "    a=int(x)+int(y)+int(z)\n",
    "    sum.append(a)\n",
    "    li.append(int(x))\n",
    "    li.append(int(y))\n",
    "    li.append(int(z))\n",
    "    print()  \n",
    "max=-math.inf\n",
    "for i in range(len(sum)):\n",
    "    if sum[i]>max:\n",
    "        max=sum[i]\n",
    "print(max)\n",
    "for i in range(0,len(li),3):\n",
    "    if max==li[i]+li[i+1]+li[i+2]:\n",
    "        new.append(li[i])\n",
    "        new.append(li[i+1])\n",
    "        new.append(li[i+2])                   \n",
    "        print(new)\n",
    "\n",
    "\n",
    "   \n",
    "    "
   ]
  },
  {
   "cell_type": "code",
   "execution_count": 2,
   "metadata": {},
   "outputs": [
    {
     "name": "stdout",
     "output_type": "stream",
     "text": [
      "[6, 8, 10, 9, 12, 15, 18, 24, 30]\n"
     ]
    }
   ],
   "source": [
    "#medium3\n",
    "list1=[2,3,6]\n",
    "list2=[3,4,5]\n",
    "s=[]\n",
    "for i in range(0,len(list1)):\n",
    "    for j in range(0,len(list2)):\n",
    "        s.append(list1[i]*list2[j])\n",
    "print(s)        \n",
    "        "
   ]
  },
  {
   "cell_type": "code",
   "execution_count": 1,
   "metadata": {},
   "outputs": [
    {
     "name": "stdout",
     "output_type": "stream",
     "text": [
      "Enter number: 3\n",
      "Enter String: a,b,c,d,e,f,g,h,i,j,k,l,m,n\n",
      "['a', 'd', 'g', 'j', 'm'] ['b', 'e', 'h', 'k', 'n'] ['c', 'f', 'i', 'l']\n"
     ]
    }
   ],
   "source": [
    "#medium4\n",
    "n=int(input(\"Enter number: \"))\n",
    "s=input(\"Enter String: \")\n",
    "s=s.split(\",\")\n",
    "list1=[]\n",
    "list2=[]\n",
    "list3=[]\n",
    "for i in range(0,len(s),3):\n",
    "    list1.append(s[i])\n",
    "for i in range(1,len(s),3):\n",
    "    list2.append(s[i])\n",
    "for i in range(2,len(s),3):\n",
    "    list3.append(s[i])    \n",
    "print(list1,list2,list3)    \n"
   ]
  },
  {
   "cell_type": "code",
   "execution_count": null,
   "metadata": {},
   "outputs": [],
   "source": [
    "#hard1\n",
    "while True:\n",
    "    abc = input(\"Enter number: \")\n",
    "    if abc == \"STOP\":\n",
    "        break\n",
    "    else:\n",
    "        a = True\n",
    "        new = abc.split()\n",
    "        n = len(new)\n",
    "        b = []\n",
    "        for i in range(n):\n",
    "            t = int(new[i])\n",
    "            b.append(t)\n",
    "        lst = []\n",
    "        for i in range(n-1):\n",
    "            abc = abs(b[i+1]- b[i])\n",
    "            lst.append(abc)\n",
    "        lst.sort()\n",
    "        for i in range(n-1):\n",
    "            if lst[i] != i+1:\n",
    "                a = False\n",
    "        if a == False:\n",
    "            print(\"Not UB Jumper\")\n",
    "        else:\n",
    "            print(\"UB Jumper\")"
   ]
  },
  {
   "cell_type": "code",
   "execution_count": 2,
   "metadata": {},
   "outputs": [
    {
     "name": "stdout",
     "output_type": "stream",
     "text": [
      "Enter string: Bracu1234\n",
      "acruB1324"
     ]
    }
   ],
   "source": [
    "#hard2\n",
    "s=input(\"Enter string: \")\n",
    "a=\"\"\n",
    "b=\"\"\n",
    "c=\"\"\n",
    "odd=\"\"\n",
    "even=\"\"\n",
    "for i in range(len(s)):\n",
    "    if s[i].isupper():\n",
    "        a+=s[i]\n",
    "    if s[i].islower():\n",
    "        b+=s[i]\n",
    "    if s[i].isnumeric():\n",
    "        c+=s[i]\n",
    "a=list(a)        \n",
    "a.sort()\n",
    "x=''.join(a)\n",
    "\n",
    "b=list(b)\n",
    "b.sort()\n",
    "y=''.join(b)\n",
    "\n",
    "for i in c:\n",
    "    a=int(i)\n",
    "    if a%2==0:\n",
    "        even+=i\n",
    "    else:\n",
    "        odd+=i\n",
    "print(y,end=\"\")\n",
    "print(x,end=\"\")\n",
    "print(odd,end=\"\")\n",
    "print(even,end=\"\")"
   ]
  },
  {
   "cell_type": "code",
   "execution_count": 4,
   "metadata": {},
   "outputs": [
    {
     "name": "stdout",
     "output_type": "stream",
     "text": [
      "Enter number: 5\n",
      "Enter number: 2\n",
      "0 4 5 1 0\n",
      "1\n"
     ]
    }
   ],
   "source": [
    "#hard3\n",
    "n=int(input(\"Enter number: \"))\n",
    "k=int(input(\"Enter number: \"))\n",
    "player=list=(int(x) for x in input().split(\" \"))\n",
    "c=0\n",
    "for i in player:\n",
    "    if (5-i)>=k:\n",
    "        c+=1\n",
    "c=c/3\n",
    "print(int(c))"
   ]
  },
  {
   "cell_type": "code",
   "execution_count": null,
   "metadata": {},
   "outputs": [],
   "source": []
  }
 ],
 "metadata": {
  "kernelspec": {
   "display_name": "Python 3",
   "language": "python",
   "name": "python3"
  },
  "language_info": {
   "codemirror_mode": {
    "name": "ipython",
    "version": 3
   },
   "file_extension": ".py",
   "mimetype": "text/x-python",
   "name": "python",
   "nbconvert_exporter": "python",
   "pygments_lexer": "ipython3",
   "version": "3.7.6"
  }
 },
 "nbformat": 4,
 "nbformat_minor": 4
}
