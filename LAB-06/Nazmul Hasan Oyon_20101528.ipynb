{
 "cells": [
  {
   "cell_type": "code",
   "execution_count": 1,
   "metadata": {},
   "outputs": [
    {
     "name": "stdout",
     "output_type": "stream",
     "text": [
      "Integer\n",
      "1234\n",
      "=====================\n",
      "String\n",
      "Hello\n",
      "=====================\n",
      "Float\n",
      "4.0\n"
     ]
    }
   ],
   "source": [
    "#1\n",
    "class DataType:\n",
    "    def __init__(self,name,value):\n",
    "        self.name = name\n",
    "        self.value = value\n",
    "data_type1 = DataType('Integer', 1234)\n",
    "print(data_type1.name)\n",
    "print(data_type1.value)\n",
    "print('=====================')\n",
    "data_type2 = DataType('String', 'Hello')\n",
    "print(data_type2.name)\n",
    "print(data_type2.value)\n",
    "print('=====================')\n",
    "data_type3 = DataType('Float', 4.0)\n",
    "print(data_type3.name)\n",
    "print(data_type3.value)        \n"
   ]
  },
  {
   "cell_type": "code",
   "execution_count": 3,
   "metadata": {},
   "outputs": [
    {
     "name": "stdout",
     "output_type": "stream",
     "text": [
      "Name of this flower: Rose\n",
      "Color of this flower: Red\n",
      "Number of petal: 6\n",
      "======================\n",
      "Name of this flower: Orchid\n",
      "Color of this flower: Purple\n",
      "Number of petal: 4\n",
      "<__main__.Flower object at 0x000002072FA49FC8>\n",
      "<__main__.Flower object at 0x000002072FA49D48>\n",
      "They are different\n"
     ]
    }
   ],
   "source": [
    "#2\n",
    "class Flower:\n",
    "    def __init__(self):\n",
    "        pass\n",
    "flower1= Flower()        \n",
    "flower1.name=\"Rose\"\n",
    "flower1.color=\"Red\"\n",
    "flower1.num_of_petal=6\n",
    "print(\"Name of this flower:\", flower1.name)\n",
    "print(\"Color of this flower:\",flower1.color)\n",
    "print(\"Number of petal:\",flower1.num_of_petal)\n",
    "print('======================')\n",
    "flower2 = Flower()\n",
    "flower2.name=\"Orchid\"\n",
    "flower2.color=\"Purple\"\n",
    "flower2.num_of_petal=4\n",
    "print(\"Name of this flower:\",flower2.name)\n",
    "print(\"Color of this flower:\",flower2.color)\n",
    "print(\"Number of petal:\",flower2.num_of_petal) \n",
    "print(flower1)\n",
    "print(flower2)\n",
    "if flower1==flower2:\n",
    "    print(\"They are same.\")\n",
    "else:\n",
    "    print(\"They are different\")"
   ]
  },
  {
   "cell_type": "code",
   "execution_count": 2,
   "metadata": {},
   "outputs": [
    {
     "name": "stdout",
     "output_type": "stream",
     "text": [
      "Name of the president: Aladeen\n",
      "Designation: President Prime Minister Admiral General\n",
      "The number of wife: 100\n",
      "Is he/she a doctor: True\n",
      "Name of the president: Donald Trump\n",
      "Designation: President\n",
      "The number of wife: 1\n",
      "Is he/she a doctor: False\n",
      "Previous information lost.\n"
     ]
    }
   ],
   "source": [
    "#3\n",
    "class Wadiya():\n",
    "    \n",
    "    def __init__(self):\n",
    "        self.name = 'Aladeen'\n",
    "        self.designation = 'President Prime Minister Admiral General'\n",
    "        self.num_of_wife = 100\n",
    "        self.dictator = True\n",
    "wadiya=Wadiya()\n",
    "a=wadiya.name\n",
    "print(\"Name of the president:\",wadiya.name)\n",
    "print(\"Designation:\",wadiya.designation)\n",
    "print(\"The number of wife:\",wadiya.num_of_wife)\n",
    "print(\"Is he/she a doctor:\",wadiya.dictator)=\n",
    "wadiya.name=\"Donald Trump\"\n",
    "wadiya.designation=\"President\"\n",
    "wadiya.num_of_wife=1\n",
    "wadiya.dictator=False\n",
    "print(\"Name of the president:\",wadiya.name)\n",
    "print(\"Designation:\",wadiya.designation)\n",
    "print(\"The number of wife:\",wadiya.num_of_wife)\n",
    "print(\"Is he/she a doctor:\",wadiya.dictator)\n",
    "if wadiya.name!=a:\n",
    "    print(\"Previous information lost.\")\n",
    "else:\n",
    "    print(\"No, changing had no effect on previous value.\")"
   ]
  },
  {
   "cell_type": "code",
   "execution_count": 8,
   "metadata": {},
   "outputs": [
    {
     "name": "stdout",
     "output_type": "stream",
     "text": [
      "Heath Ledger\n",
      "Mind Game\n",
      "False\n",
      "================\n",
      "Joaquin Phoenix\n",
      "Laughing out Loud\n",
      "True\n",
      "================\n",
      "different\n",
      "same\n"
     ]
    }
   ],
   "source": [
    "#4\n",
    "class Joker:\n",
    "    \n",
    "    def __init__(self,name,power,is_he_psycho):\n",
    "        self.name = name\n",
    "        self.power = power\n",
    "        self.is_he_psycho = is_he_psycho\n",
    "j1 = Joker('Heath Ledger', 'Mind Game', False)\n",
    "print(j1.name)\n",
    "print(j1.power)\n",
    "print(j1.is_he_psycho)\n",
    "print(\"================\")\n",
    "j2 = Joker('Joaquin Phoenix', 'Laughing out Loud', True)\n",
    "print(j2.name)\n",
    "print(j2.power)\n",
    "print(j2.is_he_psycho)\n",
    "print(\"================\")\n",
    "if j1 == j2:\n",
    "    print('same')    \n",
    "else:\n",
    "    print('different') #here object j1 and j2 memory location is in different place that's why it prints \"different\".\n",
    "j2.name = 'Heath Ledger' \n",
    "if j1.name == j2.name:\n",
    "    print('same') #at the beginning j2.name was 'Joaquin Phoenix' but after that j2.name assingned to \"Heath Ledger\"==j1.name thats why it prints \"same\".\n",
    "else:\n",
    "    print('different')"
   ]
  },
  {
   "cell_type": "code",
   "execution_count": 6,
   "metadata": {},
   "outputs": [
    {
     "name": "stdout",
     "output_type": "stream",
     "text": [
      "=======Team 1=======\n",
      "Pokemon 1: pikachu 90\n",
      "Pokemon 2: charmander 60\n",
      "Combined Power: 1500\n",
      "=======Team 2=======\n",
      "Pokemon1: bulbasaur 80\n",
      "Pokemon2: squirtle 70\n",
      "Combined Power: 1350\n"
     ]
    }
   ],
   "source": [
    "#5\n",
    "class Pokemon:\n",
    "    \n",
    "    def __init__(self,pokemon1_name,pokemon2_name,pokemon1_power,pokemon2_power,damage_rate):\n",
    "        self.pokemon1_name = pokemon1_name\n",
    "        self.pokemon2_name = pokemon2_name\n",
    "        self.pokemon1_power = pokemon1_power             \n",
    "        self.pokemon2_power = pokemon2_power\n",
    "        self.damage_rate = damage_rate\n",
    "        \n",
    "team_pika = Pokemon('pikachu', 'charmander', 90, 60, 10)\n",
    "print('=======Team 1=======')\n",
    "print('Pokemon 1:',team_pika.pokemon1_name,team_pika.pokemon1_power)\n",
    "print('Pokemon 2:',team_pika.pokemon2_name,team_pika.pokemon2_power)\n",
    "pika_combined_power = (team_pika.pokemon1_power + team_pika.pokemon2_power) * team_pika.damage_rate\n",
    "print('Combined Power:', pika_combined_power) \n",
    "team_bulb = Pokemon('bulbasaur','squirtle', 80,70,9)\n",
    "print('=======Team 2=======')\n",
    "print(\"Pokemon1:\",team_bulb.pokemon1_name,team_bulb.pokemon1_power)\n",
    "print(\"Pokemon2:\",team_bulb.pokemon2_name,team_bulb.pokemon2_power)\n",
    "pika_combined_power = (team_bulb.pokemon1_power + team_bulb.pokemon2_power) * team_bulb.damage_rate\n",
    "print('Combined Power:', pika_combined_power)\n"
   ]
  },
  {
   "cell_type": "code",
   "execution_count": null,
   "metadata": {},
   "outputs": [],
   "source": []
  }
 ],
 "metadata": {
  "kernelspec": {
   "display_name": "Python 3",
   "language": "python",
   "name": "python3"
  },
  "language_info": {
   "codemirror_mode": {
    "name": "ipython",
    "version": 3
   },
   "file_extension": ".py",
   "mimetype": "text/x-python",
   "name": "python",
   "nbconvert_exporter": "python",
   "pygments_lexer": "ipython3",
   "version": "3.7.6"
  }
 },
 "nbformat": 4,
 "nbformat_minor": 4
}
