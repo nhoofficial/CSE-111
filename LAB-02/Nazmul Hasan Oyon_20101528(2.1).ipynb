{
 "cells": [
  {
   "cell_type": "code",
   "execution_count": 2,
   "metadata": {},
   "outputs": [
    {
     "name": "stdout",
     "output_type": "stream",
     "text": [
      "Enter number1: 5\n",
      "Enter number2: 2\n",
      "0.5\n"
     ]
    }
   ],
   "source": [
    "#easy1\n",
    "x=int(input(\"Enter number1: \"))\n",
    "y=int(input(\"Enter number2: \"))\n",
    "def div(x,y):\n",
    "    if x==0 or y==0:\n",
    "        a=0\n",
    "    else:\n",
    "        a=(x/y)-y\n",
    "    return a\n",
    "\n",
    "print(div(x,y))"
   ]
  },
  {
   "cell_type": "code",
   "execution_count": 1,
   "metadata": {},
   "outputs": [
    {
     "name": "stdout",
     "output_type": "stream",
     "text": [
      "Enter height: 175\n",
      "Enter weight: 96\n",
      "Your score is 31.3.You are obese.\n"
     ]
    }
   ],
   "source": [
    "#easy2\n",
    "height=int(input(\"Enter height: \"))\n",
    "kg=int(input(\"Enter weight: \"))\n",
    "def BMI(height, kg):\n",
    "    m = height / 100\n",
    "    BMI = kg /(m * m)\n",
    "    if BMI < 18.5:\n",
    "        print(\"Your score is\",format(BMI,\".1f\"),end=\".\")\n",
    "        print(\"You are underweight\")\n",
    "    elif BMI <= 24.9:\n",
    "        print(\"Your score is\",format(BMI,\".1f\"),end=\".\")\n",
    "        print(\"You are normal\")\n",
    "    elif BMI <= 30:\n",
    "        print(\"Your score is\",format(BMI,\".1f\"),end=\".\")\n",
    "        print(\"You are overweight\")\n",
    "    elif BMI > 30:\n",
    "        print(\"Your score is\",format(BMI,\".1f\"),end=\".\")\n",
    "        print(\"You are obese.\")\n",
    "BMI(height, kg)\n"
   ]
  },
  {
   "cell_type": "code",
   "execution_count": 1,
   "metadata": {},
   "outputs": [
    {
     "name": "stdout",
     "output_type": "stream",
     "text": [
      "Enter x: 0\n",
      "Enter y: 10\n",
      "Enter z: 2\n",
      "20\n"
     ]
    }
   ],
   "source": [
    "#easy3\n",
    "x=int(input(\"Enter x: \"))\n",
    "y=int(input(\"Enter y: \"))\n",
    "z=int(input(\"Enter z: \"))\n",
    "def cal(x,y,z):#0,10,2\n",
    "    sum=x\n",
    "    for i in range(x,y,z):\n",
    "        sum+=i\n",
    "    print(sum)    \n",
    "    \n",
    "cal(x,y,z)\n",
    "            "
   ]
  },
  {
   "cell_type": "code",
   "execution_count": 6,
   "metadata": {},
   "outputs": [
    {
     "name": "stdout",
     "output_type": "stream",
     "text": [
      "Enter name: beef burger\n",
      "Enter location: Dhanmondi\n",
      "243.6\n"
     ]
    }
   ],
   "source": [
    "#med1\n",
    "burger=input(\"Enter name: \")\n",
    "burger.lower()\n",
    "location=input(\"Enter location: \")\n",
    "location.lower()\n",
    "def cost(burger,location):\n",
    "    if burger==\"bbq chicken cheese burger\":\n",
    "        if location==\"mohakhali\" or location==\"\":\n",
    "            cost=250+250*8/100+40\n",
    "            print(cost)\n",
    "        else:\n",
    "            cost=250+250*8/100+60\n",
    "            print(cost)\n",
    "    elif burger==\"beef burger\":\n",
    "        if location==\"mohakhali\" or location==\"\":\n",
    "            cost=170+170*8/100+40\n",
    "            print(cost)\n",
    "        else:\n",
    "             cost=170+170*8/100+60\n",
    "             print(cost)\n",
    "    else:\n",
    "        if burger==\"naga drums\":\n",
    "            if location==\"mohakhali\" or location==\"\":\n",
    "                cost=200+200*8/100+40\n",
    "                print(cost)\n",
    "            else:\n",
    "                cost=200+200*8/100+60\n",
    "                print(cost)     \n",
    "cost(burger,location) "
   ]
  },
  {
   "cell_type": "code",
   "execution_count": 5,
   "metadata": {},
   "outputs": [
    {
     "name": "stdout",
     "output_type": "stream",
     "text": [
      "Enter email: alice@kaaj.com\n",
      "Enter new domain: sheba.xyz\n",
      "Enter old domain: kaaj.com\n",
      "Changed:  alice@sheba.xyz\n"
     ]
    }
   ],
   "source": [
    "#med2\n",
    "email=input(\"Enter email: \")\n",
    "new_domain=input(\"Enter new domain: \")\n",
    "old_domain=input(\"Enter old domain: \")\n",
    "def replace_domain(email,new_domain,old_domain):\n",
    "    if new_domain in email:\n",
    "        c=email\n",
    "        print(\"Unchanged: \",c)\n",
    "    else:\n",
    "        c=\"\"\n",
    "        for i in range(0,len(email),1):\n",
    "            if email[i]==\"@\":\n",
    "                c+=email[i]\n",
    "                break\n",
    "            else:\n",
    "                c+=email[i]\n",
    "        c=c+new_domain\n",
    "        print(\"Changed: \",c)\n",
    "replace_domain(email,new_domain,old_domain)          "
   ]
  },
  {
   "cell_type": "code",
   "execution_count": 2,
   "metadata": {},
   "outputs": [
    {
     "name": "stdout",
     "output_type": "stream",
     "text": [
      "Enter word: XYZ\n",
      "No vowels in the name\n"
     ]
    }
   ],
   "source": [
    "s=input('Enter word: ')\n",
    "def vowelcount(s):\n",
    "    vowel=['a','e','i','o','u']\n",
    "    new=\"\"\n",
    "    s=s.lower()\n",
    "    c=0\n",
    "    new1=\"\"\n",
    "    for i in s:\n",
    "        if i in vowel:\n",
    "           c+=1\n",
    "           new+=i\n",
    "    for i in range(len(new)):\n",
    "        if i==len(new)-1:\n",
    "            new1+=new[i]+\".\"\n",
    "        else:\n",
    "            new1+=new[i]+\",\"\n",
    "    if c==0:\n",
    "        print('No vowels in the name')\n",
    "    else:\n",
    "        print(\"Vowels:\",new1,\"Total number of vowels:\",c)\n",
    "vowelcount(s)        "
   ]
  },
  {
   "cell_type": "code",
   "execution_count": 3,
   "metadata": {},
   "outputs": [
    {
     "name": "stdout",
     "output_type": "stream",
     "text": [
      "Enter name: nurses run\n",
      "Palindrome\n"
     ]
    }
   ],
   "source": [
    "#med4\n",
    "a=input(\"Enter name: \")\n",
    "def x(a):\n",
    "    a=a.lower()\n",
    "    a=a.replace(\" \",\"\")\n",
    "    c=\"\"\n",
    "    for i in range(len(a)-1,-1,-1):\n",
    "        c=c+a[i]\n",
    "    if a==c:\n",
    "        print(\"Palindrome\")\n",
    "    else:\n",
    "        print(\"Not a palindrome\")\n",
    "x(a)        \n",
    "        "
   ]
  },
  {
   "cell_type": "code",
   "execution_count": null,
   "metadata": {},
   "outputs": [],
   "source": [
    "#hard1\n",
    "cm=int(input(\"Enter current month: \"))\n",
    "cd=int(input(\"Enter current date: \"))\n",
    "name=input(\"Enter name: \")\n",
    "salary=int(input(\"Enter salary: \"))\n",
    "yyyy=int(input(\"Enter year: \"))\n",
    "mm=int(input(\"Enter month: \"))\n",
    "dd=int(input(\"Enter day: \"))\n",
    "if cm>mm or dd<cd:\n",
    "    yyyy-=1\n",
    "import datetime\n",
    "x = (datetime.date(yyyy,mm,dd))\n",
    "\n",
    "def bonus(*args):\n",
    "    if 2020-yyyy<5:\n",
    "        p=salary*(10/100)\n",
    "        print(name,\":\",p)\n",
    "    elif 2020-yyyy<=10:\n",
    "        p=salary*(10/100)+5000\n",
    "        print(name,\":\",p)\n",
    "    elif 2020-yyyy>10:\n",
    "        p=salary*(15/100)+15000\n",
    "        print(name,\":\",p)\n",
    "bonus(name,salary,x)        \n"
   ]
  },
  {
   "cell_type": "code",
   "execution_count": 2,
   "metadata": {},
   "outputs": [
    {
     "name": "stdout",
     "output_type": "stream",
     "text": [
      "Enter year: 4320\n",
      "11 years , 10 month and 5 days\n"
     ]
    }
   ],
   "source": [
    "#hard2\n",
    "n=int(input(\"Enter year: \"))\n",
    "def year(n):\n",
    "    y=n/365\n",
    "    y=int(y)\n",
    "    n=n%365\n",
    "    m=n//30\n",
    "    n=n%30\n",
    "    print(y,\"years\",\",\",m,\"month\",\"and\",n,\"days\")\n",
    "year(n)    "
   ]
  },
  {
   "cell_type": "code",
   "execution_count": 1,
   "metadata": {},
   "outputs": [
    {
     "name": "stdout",
     "output_type": "stream",
     "text": [
      "Enter paragraph: my favourite animal is a dog. a dog has sharp teeth so that it can flesh very easily. do you know my pet dog's name? i love my pet very much. \n",
      "My favourite animal is a dog. A dog has sharp teeth so that it can flesh very easily. Do you know my pet dog's name? I love my pet very much. \n"
     ]
    }
   ],
   "source": [
    "#hard3\n",
    "s=input(\"Enter paragraph: \")\n",
    "def cap(s):\n",
    "    n=list(s)\n",
    "    for i in range(0,len(s)):\n",
    "        if i==0:\n",
    "            n[i]=n[i].upper()\n",
    "        if i>=2:\n",
    "            if n[i-2]==\".\" or n[i-2]==\"!\" or n[i-2]==\"?\":\n",
    "                n[i]=n[i].upper()\n",
    "        if n[i-1]==\" \" and n[i]==\"i\" and n[i+1]==\" \":\n",
    "            n[i]=n[i].upper()\n",
    "    c=\"\"\n",
    "    for j in range(0,len(n)):\n",
    "        c=c+n[j]\n",
    "    print(c)\n",
    "cap(s)    "
   ]
  },
  {
   "cell_type": "code",
   "execution_count": null,
   "metadata": {},
   "outputs": [],
   "source": []
  }
 ],
 "metadata": {
  "kernelspec": {
   "display_name": "Python 3",
   "language": "python",
   "name": "python3"
  },
  "language_info": {
   "codemirror_mode": {
    "name": "ipython",
    "version": 3
   },
   "file_extension": ".py",
   "mimetype": "text/x-python",
   "name": "python",
   "nbconvert_exporter": "python",
   "pygments_lexer": "ipython3",
   "version": "3.7.6"
  }
 },
 "nbformat": 4,
 "nbformat_minor": 4
}
