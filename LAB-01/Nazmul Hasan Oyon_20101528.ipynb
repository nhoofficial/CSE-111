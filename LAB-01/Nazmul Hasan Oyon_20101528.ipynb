{
 "cells": [
  {
   "cell_type": "code",
   "execution_count": 1,
   "metadata": {},
   "outputs": [
    {
     "name": "stdout",
     "output_type": "stream",
     "text": [
      "3\n",
      "5\n",
      "6\n",
      "9\n",
      "10\n",
      "12\n",
      "15\n",
      "18\n",
      "20\n",
      "21\n",
      "24\n",
      "25\n",
      "27\n",
      "30\n"
     ]
    }
   ],
   "source": [
    "#easy 1\n",
    "i=1\n",
    "while i<=30:\n",
    "    if i%3==0 or i%5==0:\n",
    "        print(i)\n",
    "    i+=1    "
   ]
  },
  {
   "cell_type": "code",
   "execution_count": 1,
   "metadata": {},
   "outputs": [
    {
     "name": "stdout",
     "output_type": "stream",
     "text": [
      "Enter number: 17 55 33\n",
      "55\n"
     ]
    }
   ],
   "source": [
    "#easy2\n",
    "a,b,c=input(\"Enter number: \").split()\n",
    "if int(a)>int(b):\n",
    "    if int(a)>int(c):\n",
    "        print(a)\n",
    "    else:\n",
    "        print(c)\n",
    "else:\n",
    "    if int(b)>int(c):\n",
    "        print(b)\n",
    "    else:\n",
    "        print(c)\n",
    "    "
   ]
  },
  {
   "cell_type": "code",
   "execution_count": 2,
   "metadata": {},
   "outputs": [
    {
     "name": "stdout",
     "output_type": "stream",
     "text": [
      "Enter mark: 33\n",
      "F\n"
     ]
    }
   ],
   "source": [
    "#easy3\n",
    "mark=input(\"Enter mark: \")\n",
    "mark=int(mark)\n",
    "if mark>=90:\n",
    "    print(\"A\")\n",
    "elif mark>=85:\n",
    "    print(\"A-\")\n",
    "elif mark>=80:\n",
    "    print(\"B+\")\n",
    "elif mark>=75:\n",
    "    print(\"B\")\n",
    "elif mark>=70:\n",
    "    print(\"B-\")\n",
    "elif mark>=65:\n",
    "    print(\"C+\")\n",
    "elif mark>=60:\n",
    "    print(\"C\")\n",
    "elif mark>=57:\n",
    "    print(\"C-\") \n",
    "elif mark>=55:\n",
    "    print(\"D+\")\n",
    "elif mark>=52:\n",
    "    print(\"D\")\n",
    "elif mark>=50:\n",
    "    print(\"D-\") \n",
    "else:\n",
    "    print(\"F\")    \n",
    "    "
   ]
  },
  {
   "cell_type": "code",
   "execution_count": 4,
   "metadata": {},
   "outputs": [
    {
     "name": "stdout",
     "output_type": "stream",
     "text": [
      "Enter number: 6\n",
      "Not prime number\n"
     ]
    }
   ],
   "source": [
    "#easy4\n",
    "num=int(input(\"Enter number: \"))\n",
    "i=1\n",
    "divc=0\n",
    "while i<=num:\n",
    "    if num%i==0:\n",
    "        divc+=1\n",
    "    i+=1\n",
    "if divc==2:\n",
    "    print(\"Prime number\")\n",
    "else:\n",
    "    print(\"Not prime number\")"
   ]
  },
  {
   "cell_type": "code",
   "execution_count": 5,
   "metadata": {},
   "outputs": [
    {
     "name": "stdout",
     "output_type": "stream",
     "text": [
      "Enter number: 10\n",
      "0 1 1 1 2 3 5 8 "
     ]
    }
   ],
   "source": [
    "#medium1\n",
    "num=int(input(\"Enter number: \"))\n",
    "first=0\n",
    "second=1\n",
    "sum=first+second\n",
    "print(first,end=\" \")\n",
    "print(second,end=\" \")\n",
    "print(sum,end=\" \")\n",
    "while sum<num:\n",
    "    print(sum,end=\" \")\n",
    "    first=second\n",
    "    second=sum\n",
    "    sum=first+second\n",
    "\n"
   ]
  },
  {
   "cell_type": "code",
   "execution_count": 6,
   "metadata": {},
   "outputs": [
    {
     "name": "stdout",
     "output_type": "stream",
     "text": [
      "Enter number5\n",
      "54321"
     ]
    }
   ],
   "source": [
    "#medium2\n",
    "num=int(input(\"Enter number: \"))\n",
    "for i in range(num,0,-1):\n",
    "    print(i,end=\"\")\n",
    "\n"
   ]
  },
  {
   "cell_type": "code",
   "execution_count": 6,
   "metadata": {},
   "outputs": [
    {
     "name": "stdout",
     "output_type": "stream",
     "text": [
      "Enter number: 6\n",
      "Perfect Number\n"
     ]
    }
   ],
   "source": [
    "#medium3\n",
    "num=int(input(\"Enter number: \"))\n",
    "i=1\n",
    "sum=0\n",
    "while i<num:\n",
    "    if num%i==0:\n",
    "        sum+=i\n",
    "    i+=1\n",
    "if sum==num:\n",
    "    print(\"Perfect Number\")\n",
    "else:\n",
    "    print(\"Not perfect Number\")"
   ]
  },
  {
   "cell_type": "code",
   "execution_count": 7,
   "metadata": {},
   "outputs": [
    {
     "name": "stdout",
     "output_type": "stream",
     "text": [
      "Enter number: 122345\n",
      "5\n"
     ]
    }
   ],
   "source": [
    "#hard1\n",
    "x=input(\"Enter number: \")\n",
    "y=[]\n",
    "for i in x:\n",
    "    if i not in y:\n",
    "        y.append(i)\n",
    "z=0\n",
    "for i in y:\n",
    "    z+=1\n",
    "print(z)    \n",
    "    "
   ]
  },
  {
   "cell_type": "code",
   "execution_count": 1,
   "metadata": {},
   "outputs": [
    {
     "name": "stdout",
     "output_type": "stream",
     "text": [
      "Enter row3\n",
      "   \n",
      "  *\n",
      " * *\n",
      "*****\n",
      " * *\n",
      "  *\n",
      "   \n"
     ]
    }
   ],
   "source": [
    "#hard2\n",
    "row=int(input(\"Enter row\"))\n",
    "for i in range(row+1):\n",
    "    for space in range(0,row-i,1):\n",
    "        print(' ',end=\"\")\n",
    "    for j in range(1,2*i,1):\n",
    "        if i==0 or j==1 or i==row or j==(2*i)-1:\n",
    "            print(\"*\",end='')\n",
    "        else:\n",
    "            print(\" \",end='')\n",
    "    print()    \n",
    "for i in range(row-1,-1,-1):\n",
    "    for space in range(0,row-i,1):\n",
    "        print(' ',end=\"\")\n",
    "    for j in range(1,2*i,1):\n",
    "        if i==0 or j==1 or i==row or j==(2*i)-1:\n",
    "            print(\"*\",end='')\n",
    "        else:\n",
    "            print(\" \",end='')\n",
    "    print()    \n",
    "\n",
    "        \n"
   ]
  },
  {
   "cell_type": "code",
   "execution_count": 8,
   "metadata": {},
   "outputs": [
    {
     "name": "stdout",
     "output_type": "stream",
     "text": [
      "Enter number: 37\n",
      "7\n"
     ]
    }
   ],
   "source": [
    "#hard3\n",
    "num=int(input(\"Enter number: \"))\n",
    "c=0\n",
    "while num>0:\n",
    "    if num%2!=0:\n",
    "        c+=1\n",
    "    num=num/2\n",
    "    num=int(num)\n",
    "sum=0\n",
    "for i in range(c):\n",
    "    sum=sum+2**i\n",
    "print(sum)"
   ]
  },
  {
   "cell_type": "code",
   "execution_count": null,
   "metadata": {},
   "outputs": [],
   "source": []
  }
 ],
 "metadata": {
  "kernelspec": {
   "display_name": "Python 3",
   "language": "python",
   "name": "python3"
  },
  "language_info": {
   "codemirror_mode": {
    "name": "ipython",
    "version": 3
   },
   "file_extension": ".py",
   "mimetype": "text/x-python",
   "name": "python",
   "nbconvert_exporter": "python",
   "pygments_lexer": "ipython3",
   "version": "3.7.6"
  }
 },
 "nbformat": 4,
 "nbformat_minor": 4
}
