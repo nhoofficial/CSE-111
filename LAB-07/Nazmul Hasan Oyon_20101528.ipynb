{
 "cells": [
  {
   "cell_type": "code",
   "execution_count": 5,
   "metadata": {},
   "outputs": [
    {
     "name": "stdout",
     "output_type": "stream",
     "text": [
      "Enter number 1: 1\n",
      "Enter operator: +\n",
      "Enter number 2: 2\n",
      "Lets calculate\n",
      "Value 1: 1\n",
      "Operator: +\n",
      "Value 2: 2\n",
      "Result: 3\n"
     ]
    }
   ],
   "source": [
    "#1\n",
    "first_value=int(input(\"Enter number 1: \"))\n",
    "operator=input(\"Enter operator: \")\n",
    "second_value=int(input(\"Enter number 2: \"))\n",
    "class Calculator:\n",
    "    def __init__(self,first_value,operator,second_value):\n",
    "        self.first_value=first_value\n",
    "        self.operator=operator\n",
    "        self.second_value=second_value\n",
    "    print('Lets calculate')    \n",
    "    def add(self):\n",
    "        print('Value 1:',self.first_value)\n",
    "        print('Operator:',self.operator)\n",
    "        print('Value 2:',self.second_value)\n",
    "        print('Result:',self.first_value+self.second_value)\n",
    "    def substract(self):\n",
    "        print('Value 1:',self.first_value)\n",
    "        print('Operator:',self.operator)\n",
    "        print('Value 2:',self.second_value)\n",
    "        print('Result:',self.first_value-self.second_value)\n",
    "    def multiply(self):\n",
    "        print('Value 1:',self.first_value)\n",
    "        print('Operator:',self.operator)\n",
    "        print('Value 2:',self.second_value)\n",
    "        print('Result:',self.first_value*self.second_value)\n",
    "    def divide(self):\n",
    "        print('Value 1:',self.first_value)\n",
    "        print('Operator:',self.operator)\n",
    "        print('Value 2:',self.second_value)\n",
    "        print('Result:',self.first_value/self.second_value)   \n",
    "c1=Calculator(first_value,operator,second_value)\n",
    "if c1.operator==\"+\":\n",
    "    c1.add()\n",
    "elif c1.operator=='-':\n",
    "    c1.substract()\n",
    "elif c1.operator=='*':\n",
    "    c1.multiply()\n",
    "else:\n",
    "    c1.divide()"
   ]
  },
  {
   "cell_type": "code",
   "execution_count": 2,
   "metadata": {},
   "outputs": [
    {
     "name": "stdout",
     "output_type": "stream",
     "text": [
      "Hello!\n",
      "Sam\n",
      "you purchased 3 item(s):\n",
      "chips\n",
      "chocolate\n",
      "orange juice\n",
      "-----------------------------\n",
      "Hello David!\n",
      "you purchased 1 item(s):\n",
      "orange juice\n"
     ]
    }
   ],
   "source": [
    "#2\n",
    "class Customer:\n",
    "    def __init__(self,name):\n",
    "        self.name=name\n",
    "    def greet(self,name=None):\n",
    "        if name==None:\n",
    "            print('Hello!')\n",
    "            print(self.name)\n",
    "        else:\n",
    "            print('Hello {}!'.format(self.name))\n",
    "    def purchase(self,*args):\n",
    "        print(\"you purchased\",len(args),'item(s):')\n",
    "        for i in args:\n",
    "            print(i)\n",
    "customer_1 = Customer(\"Sam\")\n",
    "customer_1.greet()\n",
    "customer_1.purchase(\"chips\", \"chocolate\", \"orange juice\")\n",
    "print(\"-----------------------------\")\n",
    "customer_2 = Customer(\"David\")\n",
    "customer_2.greet(\"David\")\n",
    "customer_2.purchase(\"orange juice\") "
   ]
  },
  {
   "cell_type": "code",
   "execution_count": 11,
   "metadata": {},
   "outputs": [
    {
     "name": "stdout",
     "output_type": "stream",
     "text": [
      "Kunfu is a Male Panda Bear who is 5 years old\n",
      "Pan Pan is a Female Panda Bear who is 3 years old\n",
      "Ming Ming is a Female Panda Bear who is 8 years old\n",
      "Pan Pan sleeps 10 hours daily and should have Broccoli Chicken\n",
      "Kunfu sleeps 4 hours daily and should have Mixed Veggies\n",
      "Ming Ming's duration is unknown thus should have only bamboo leaves\n"
     ]
    }
   ],
   "source": [
    "#3\n",
    "class Panda:\n",
    "    def __init__(self,name,gender,age):\n",
    "        self.name=name\n",
    "        self.gender=gender\n",
    "        self.age=age\n",
    "     \n",
    "    def sleep(self,hours=None):\n",
    "        self.hours=hours\n",
    "        if hours!=None:\n",
    "            if hours>=3 and hours<=5:\n",
    "                return f'{self.name} sleeps {hours} hours daily and should have Mixed Veggies'\n",
    "            elif hours>=6 and hours<=8:\n",
    "                return f'{self.name} sleeps {hours} hours daily and should have Eggplant and Tofu'\n",
    "            elif hours>=9 and hours<=11:\n",
    "                return f'{self.name} sleeps {hours} hours daily and should have Broccoli Chicken'\n",
    "        else:\n",
    "            return f\"{self.name}'s duration is unknown thus should have only bamboo leaves\"\n",
    "                \n",
    "            \n",
    "panda1 = Panda(\"Kunfu\",\"Male\", 5)\n",
    "panda2=Panda(\"Pan Pan\",\"Female\",3)\n",
    "panda3=Panda(\"Ming Ming\",\"Female\",8)\n",
    "print(\"{} is a {} Panda Bear who is {} years old\".format(panda1.name,panda1.gender,panda1.age))\n",
    "print(\"{} is a {} Panda Bear who is {} years old\".format(panda2.name,panda2.gender,panda2.age))\n",
    "print(\"{} is a {} Panda Bear who is {} years old\".format(panda3.name,panda3.gender,panda3.age))\n",
    "\n",
    "print(panda2.sleep(10))\n",
    "print(panda1.sleep(4))\n",
    "print(panda3.sleep())"
   ]
  },
  {
   "cell_type": "code",
   "execution_count": 1,
   "metadata": {},
   "outputs": [
    {
     "name": "stdout",
     "output_type": "stream",
     "text": [
      "White cat is sitting\n",
      "Black cat is sitting\n",
      "Brown cat is jumping\n",
      "Red cat is purring\n",
      "Blue cat is sitting\n",
      "Purple cat is jumping\n"
     ]
    }
   ],
   "source": [
    "#4\n",
    "class Cat:\n",
    "    def __init__(self,color=None,action=None):\n",
    "        self.color=color\n",
    "        self.action=action\n",
    "    def printCat(self):\n",
    "        if self.color==None and self.action==None:\n",
    "            self.color=\"White\"\n",
    "            self.action='sitting'\n",
    "            print(\"{} cat is {}\".format(self.color,self.action)) \n",
    "        elif self.color!=None and self.action!=None:\n",
    "            print(\"{} cat is {}\".format(self.color,self.action)) \n",
    "        elif self.action==None:\n",
    "            self.action='sitting'\n",
    "            print(\"{} cat is {}\".format(self.color,self.action)) \n",
    "            \n",
    "    def changeColor(self,color):\n",
    "        self.color=color\n",
    "        \n",
    "c1 = Cat()\n",
    "c2 = Cat(\"Black\")\n",
    "c3 = Cat(\"Brown\", \"jumping\")\n",
    "c4 = Cat(\"Red\", \"purring\")\n",
    "c1.printCat()\n",
    "c2.printCat()\n",
    "c3.printCat()\n",
    "c4.printCat()\n",
    "c1.changeColor(\"Blue\")\n",
    "c3.changeColor(\"Purple\")\n",
    "c1.printCat()\n",
    "c3.printCat()        "
   ]
  },
  {
   "cell_type": "code",
   "execution_count": 5,
   "metadata": {},
   "outputs": [
    {
     "name": "stdout",
     "output_type": "stream",
     "text": [
      "(0, 0)\n",
      "(0, 1)\n",
      "(-1, 1)\n",
      "(-1, 0)\n"
     ]
    }
   ],
   "source": [
    "#5\n",
    "class Vehicle:\n",
    "    def __init__(self,x=0,y=0):\n",
    "        self.x=x\n",
    "        self.y=y\n",
    "    def print_position(self):\n",
    "        a=(self.x,self.y)\n",
    "        print(a)\n",
    "    def moveUp(self):\n",
    "        self.y+=1\n",
    "    def moveLeft(self):\n",
    "        self.x-=1    \n",
    "    def moveDown(self):\n",
    "        self.y-=1\n",
    "    def moveRight(self):\n",
    "        self.x=+1\n",
    "    \n",
    "        \n",
    "car = Vehicle()\n",
    "car.print_position()\n",
    "car.moveUp()\n",
    "car.print_position()\n",
    "car.moveLeft()\n",
    "car.print_position()\n",
    "car.moveDown()\n",
    "car.print_position()\n",
    "car.moveRight()    "
   ]
  }
 ],
 "metadata": {
  "kernelspec": {
   "display_name": "Python 3",
   "language": "python",
   "name": "python3"
  },
  "language_info": {
   "codemirror_mode": {
    "name": "ipython",
    "version": 3
   },
   "file_extension": ".py",
   "mimetype": "text/x-python",
   "name": "python",
   "nbconvert_exporter": "python",
   "pygments_lexer": "ipython3",
   "version": "3.7.6"
  }
 },
 "nbformat": 4,
 "nbformat_minor": 4
}
