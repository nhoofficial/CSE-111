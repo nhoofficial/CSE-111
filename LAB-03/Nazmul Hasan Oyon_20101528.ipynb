{
 "cells": [
  {
   "cell_type": "code",
   "execution_count": 1,
   "metadata": {},
   "outputs": [
    {
     "name": "stdout",
     "output_type": "stream",
     "text": [
      "Enter word: apple\n",
      "ppl2\n"
     ]
    }
   ],
   "source": [
    "\n",
    "#easy1\n",
    "s=input('Enter word: ').lower()\n",
    "vowel=['a','e','i','o','u']\n",
    "c=0\n",
    "new=\"\"\n",
    "for i in s:\n",
    "    if i in vowel:\n",
    "        c+=1\n",
    "    else:\n",
    "        new+=i\n",
    "print(new+str(c)) \n"
   ]
  },
  {
   "cell_type": "code",
   "execution_count": 1,
   "metadata": {},
   "outputs": [
    {
     "name": "stdout",
     "output_type": "stream",
     "text": [
      "Enter word: nurses run\n",
      "True\n"
     ]
    }
   ],
   "source": [
    "#easy2\n",
    "s=input(\"Enter word: \")\n",
    "s=s.replace(\" \",\"\")\n",
    "s=s.lower()\n",
    "c=\"\"\n",
    "for i in range(len(s)-1,-1,-1):\n",
    "    c=c+s[i]\n",
    "if s==c:\n",
    "    print(\"True\")\n",
    "else:\n",
    "    print(\"False\")"
   ]
  },
  {
   "cell_type": "code",
   "execution_count": 2,
   "metadata": {},
   "outputs": [
    {
     "name": "stdout",
     "output_type": "stream",
     "text": [
      "Enter word: wonder\n",
      "wonderful\n"
     ]
    }
   ],
   "source": [
    "#easy3\n",
    "s=input(\"Enter word: \")\n",
    "if len(s)<4:\n",
    "    print(s)\n",
    "else:\n",
    "    if s[len(s)-1]==\"l\" and s[len(s)-2]==\"u\" and s[len(s)-3]==\"f\":\n",
    "        print(s+\"ly\")\n",
    "    else:\n",
    "        print(s+\"ful\")"
   ]
  },
  {
   "cell_type": "code",
   "execution_count": 1,
   "metadata": {},
   "outputs": [
    {
     "name": "stdout",
     "output_type": "stream",
     "text": [
      "Enter word: BaNaNa\n",
      "banana\n"
     ]
    }
   ],
   "source": [
    "#medium1\n",
    "s=input(\"Enter word: \")\n",
    "a=0\n",
    "b=0\n",
    "for i in s:\n",
    "    if ord(i)>=97 and ord(i)<=122:\n",
    "        a+=1\n",
    "    else:\n",
    "        b+=1\n",
    "if a>=b:\n",
    "   print(s.lower())\n",
    "else:\n",
    "    print(s.upper())\n",
    "    "
   ]
  },
  {
   "cell_type": "code",
   "execution_count": 4,
   "metadata": {},
   "outputs": [
    {
     "name": "stdout",
     "output_type": "stream",
     "text": [
      "Enter String: 54\n",
      "number\n"
     ]
    }
   ],
   "source": [
    "#medium2\n",
    "s=input(\"Enter String: \")\n",
    "try:\n",
    "    s=int(s)\n",
    "    print(\"number\")\n",
    "except:\n",
    "    if s.isalpha():\n",
    "        print('WORD')\n",
    "    else:\n",
    "        print(\"Mixed\")"
   ]
  },
  {
   "cell_type": "code",
   "execution_count": 3,
   "metadata": {},
   "outputs": [
    {
     "name": "stdout",
     "output_type": "stream",
     "text": [
      "Enter string: baNgladEsh\n",
      "glad\n"
     ]
    }
   ],
   "source": [
    "#medium3\n",
    "n=input('Enter string: ')\n",
    "c=''\n",
    "for i in range(0,len(n)):\n",
    "    if n[i] == n[i].upper():\n",
    "        x = i\n",
    "        break\n",
    "    else: \n",
    "        continue\n",
    "for i in range(x+1,len(n)):\n",
    "    if n[i]!=n[i].upper():\n",
    "        c+=n[i]\n",
    "    else:\n",
    "        break\n",
    "if c=='':\n",
    "    print('BLANK')\n",
    "else:\n",
    "    print(c)\n"
   ]
  },
  {
   "cell_type": "code",
   "execution_count": 6,
   "metadata": {},
   "outputs": [
    {
     "name": "stdout",
     "output_type": "stream",
     "text": [
      "Enter sentence: The book is not too good!\n",
      "The book is not excellent!\n"
     ]
    }
   ],
   "source": [
    "#medium4\n",
    "s=input(\"Enter sentence: \")\n",
    "r=\" too good\"\n",
    "if r in s:\n",
    "    s=s.replace(\" too good\",\" excellent\")\n",
    "    print(s)\n",
    "else:\n",
    "    print(s)"
   ]
  },
  {
   "cell_type": "code",
   "execution_count": 3,
   "metadata": {},
   "outputs": [
    {
     "name": "stdout",
     "output_type": "stream",
     "text": [
      "Enter string1: harry\n",
      "Enter string2: hermione\n",
      "hrr\n"
     ]
    }
   ],
   "source": [
    "#hard1\n",
    "s1=input(\"Enter string1: \")\n",
    "s2=input(\"Enter string2: \")\n",
    "s1=s1.lower()\n",
    "s2=s2.lower()\n",
    "c=\"\"\n",
    "for i in range(0,len(s1)):\n",
    "    for j in range(0,len(s2)):\n",
    "        if s2[j]==s1[i]:\n",
    "            c+=s2[j]\n",
    "if c==\"\":\n",
    "    print(\"Nothing in common\")\n",
    "else:\n",
    "    print(c)\n",
    "    \n",
    "            "
   ]
  },
  {
   "cell_type": "code",
   "execution_count": 2,
   "metadata": {},
   "outputs": [
    {
     "name": "stdout",
     "output_type": "stream",
     "text": [
      "Enter String: fixprefixsuffix\n",
      "Palindrome substring\n"
     ]
    }
   ],
   "source": [
    "#hard2\n",
    "s=input(\"Enter String: \").lower()\n",
    "new=\"\"\n",
    "for i in range(len(s)):\n",
    "    if s[i]!=s[-1]:\n",
    "        new+=s[i]\n",
    "    else:\n",
    "        new+=s[i]\n",
    "        break\n",
    "if s.startswith(new) and s.endswith(new) and s.count(new)==3:\n",
    "    print(\"Palindrome substring\")\n",
    "else:\n",
    "    print(\"Not palindrome substring\")\n",
    "    "
   ]
  },
  {
   "cell_type": "code",
   "execution_count": 8,
   "metadata": {},
   "outputs": [
    {
     "name": "stdout",
     "output_type": "stream",
     "text": [
      "Enter word: hgkjhjk\n",
      "Upper case missing Digit missing Special case missing\n"
     ]
    }
   ],
   "source": [
    "#Hard3\n",
    "s=input(\"Enter word: \")\n",
    "sc=0\n",
    "uc=0\n",
    "n=0\n",
    "sp_chr=[\"@\",\"_\",\"#\",\"$\"]\n",
    "num=[\"0\",\"1\",\"2\",\"3\",\"4\",\"5\",\"6\",\"7\",\"8\",\"9\"]\n",
    "a=0\n",
    "for i in range(0,len(s)):\n",
    "    if s[i]==s[i].lower():\n",
    "        sc+=1\n",
    "    if s[i]==s[i].upper():\n",
    "        uc+=1\n",
    "    if s[i] in num:\n",
    "        n+=1\n",
    "    if s[i] in sp_chr:\n",
    "        a+=1\n",
    "if sc!=0 and uc!=0 and n!=0 and a!=0:\n",
    "    print(\"OK\")\n",
    "else:\n",
    "    if sc==0:\n",
    "        print(\"Lower case missing\",end=\" \")\n",
    "    if uc==0:\n",
    "        print(\"Upper case missing\",end=\" \")\n",
    "    if n==0:\n",
    "        print(\"Digit missing\",end=\" \")\n",
    "    if a==0:\n",
    "        print(\"Special case missing\")    \n",
    "    \n"
   ]
  },
  {
   "cell_type": "code",
   "execution_count": null,
   "metadata": {},
   "outputs": [],
   "source": []
  }
 ],
 "metadata": {
  "kernelspec": {
   "display_name": "Python 3",
   "language": "python",
   "name": "python3"
  },
  "language_info": {
   "codemirror_mode": {
    "name": "ipython",
    "version": 3
   },
   "file_extension": ".py",
   "mimetype": "text/x-python",
   "name": "python",
   "nbconvert_exporter": "python",
   "pygments_lexer": "ipython3",
   "version": "3.7.6"
  }
 },
 "nbformat": 4,
 "nbformat_minor": 4
}
