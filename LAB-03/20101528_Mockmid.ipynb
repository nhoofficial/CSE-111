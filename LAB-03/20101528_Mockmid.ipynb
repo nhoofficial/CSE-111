{
 "cells": [
  {
   "cell_type": "code",
   "execution_count": 13,
   "metadata": {},
   "outputs": [
    {
     "name": "stdout",
     "output_type": "stream",
     "text": [
      "Enter string: WEloVeCsE111\n",
      "Number of lower case letters: 4\n"
     ]
    }
   ],
   "source": [
    "s=input(\"Enter string: \")\n",
    "sc=0\n",
    "a=[\"a\",\"b\",\"c\",\"d\",\"e\",\"f\",\"g\",\"h\",\"i\",\"j\",\"k\",\"l\",\"m\",\"n\",\"o\",\"p\",\"q\",\"r\",\"s\",\"t\",\"u\",\"v\",\"w\",\"y\",\"z\"]\n",
    "for i in range(len(s)):\n",
    "    if s[i] in a:\n",
    "        sc+=1\n",
    "print(\"Number of lower case letters:\",sc)    \n",
    "   \n",
    "    "
   ]
  },
  {
   "cell_type": "code",
   "execution_count": 14,
   "metadata": {},
   "outputs": [
    {
     "name": "stdout",
     "output_type": "stream",
     "text": [
      "Enter number: 50\n",
      "Not prime\n"
     ]
    }
   ],
   "source": [
    "#2\n",
    "n=int(input(\"Enter number: \"))\n",
    "def primecheck(n):\n",
    "    divc=0\n",
    "    for i in range(1,n):\n",
    "        if n%i==0:\n",
    "            divc+=1\n",
    "    if divc==1:\n",
    "        print(\"Prime\")\n",
    "    else:\n",
    "        print(\"Not prime\")\n",
    "primecheck(n)   \n",
    "    "
   ]
  },
  {
   "cell_type": "code",
   "execution_count": null,
   "metadata": {},
   "outputs": [],
   "source": [
    "#3\n",
    "lst=[]\n",
    "s=input(\"Enter string: \")\n",
    "s.split(\",\")\n",
    "lst.append(s) "
   ]
  }
 ],
 "metadata": {
  "kernelspec": {
   "display_name": "Python 3",
   "language": "python",
   "name": "python3"
  },
  "language_info": {
   "codemirror_mode": {
    "name": "ipython",
    "version": 3
   },
   "file_extension": ".py",
   "mimetype": "text/x-python",
   "name": "python",
   "nbconvert_exporter": "python",
   "pygments_lexer": "ipython3",
   "version": "3.7.6"
  }
 },
 "nbformat": 4,
 "nbformat_minor": 4
}
