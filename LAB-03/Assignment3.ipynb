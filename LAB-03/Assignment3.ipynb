{
 "cells": [
  {
   "cell_type": "code",
   "execution_count": 1,
   "metadata": {},
   "outputs": [
    {
     "name": "stdout",
     "output_type": "stream",
     "text": [
      "Enter word: apple\n",
      "ppl2\n"
     ]
    }
   ],
   "source": [
    "#easy1\n",
    "s=input(\"Enter word: \")\n",
    "s=s.lower()\n",
    "c=0\n",
    "a=\"\"\n",
    "for i in range(0,len(s)):\n",
    "    if s[i]==\"a\" or s[i]==\"e\" or s[i]==\"i\" or s[i]==\"o\" or s[i]==\"u\":\n",
    "        c+=1\n",
    "    else:\n",
    "        a=a+s[i]\n",
    "   \n",
    "print(a,end=\"\")\n",
    "print(c)\n"
   ]
  },
  {
   "cell_type": "code",
   "execution_count": 2,
   "metadata": {},
   "outputs": [
    {
     "name": "stdout",
     "output_type": "stream",
     "text": [
      "Enter word: abbaaa\n",
      "False\n"
     ]
    }
   ],
   "source": [
    "#easy2\n",
    "s=input(\"Enter word: \")\n",
    "s=s.lower()\n",
    "s=s.replace(\" \",\"\")\n",
    "c=\"\"\n",
    "for i in range(len(s)-1,-1,-1):\n",
    "    c=c+s[i]\n",
    "if s==c:\n",
    "    print(\"True\")\n",
    "else:\n",
    "    print(\"False\")"
   ]
  },
  {
   "cell_type": "code",
   "execution_count": 3,
   "metadata": {},
   "outputs": [
    {
     "name": "stdout",
     "output_type": "stream",
     "text": [
      "Enter word: wonder\n",
      "wonderful\n"
     ]
    }
   ],
   "source": [
    "#easy3\n",
    "s=input(\"Enter word: \")\n",
    "if len(s)<4:\n",
    "    print(s)\n",
    "else:\n",
    "    if s[len(s)-1]==\"l\" and s[len(s)-2]==\"u\" and s[len(s)-3]==\"f\":\n",
    "        print(s+\"ly\")\n",
    "    else:\n",
    "        print(s+\"ful\")"
   ]
  },
  {
   "cell_type": "code",
   "execution_count": 1,
   "metadata": {},
   "outputs": [
    {
     "name": "stdout",
     "output_type": "stream",
     "text": [
      "Enter word: BaNaNa\n",
      "banana\n"
     ]
    }
   ],
   "source": [
    "#medium1\n",
    "s=input(\"Enter word: \")\n",
    "a=0\n",
    "b=0\n",
    "for i in range(0,len(s)):\n",
    "    if s[i]==s[i].upper():\n",
    "        a+=1\n",
    "    else:\n",
    "        b+=1\n",
    "if a>b:\n",
    "   print(s.upper())\n",
    "else:\n",
    "    print(s.lower())\n",
    "    "
   ]
  },
  {
   "cell_type": "code",
   "execution_count": 5,
   "metadata": {},
   "outputs": [
    {
     "name": "stdout",
     "output_type": "stream",
     "text": [
      "Enter word: jhg231j231\n",
      "MIXED\n"
     ]
    }
   ],
   "source": [
    "#medium2\n",
    "s=input(\"Enter word: \")\n",
    "num=[\"0\",\"1\",\"2\",\"3\",\"4\",\"5\",\"6\",\"7\",\"8\",\"9\"]\n",
    "try:\n",
    "    i=int(s)\n",
    "    print(\"NUMBER\")\n",
    "except:\n",
    "    s=s.lower()\n",
    "    for i in s:\n",
    "        if i in num:\n",
    "            print(\"MIXED\")\n",
    "            break\n",
    "    else:\n",
    "        print(\"WORD\")"
   ]
  },
  {
   "cell_type": "code",
   "execution_count": null,
   "metadata": {},
   "outputs": [],
   "source": [
    "#medium3"
   ]
  },
  {
   "cell_type": "code",
   "execution_count": 6,
   "metadata": {},
   "outputs": [
    {
     "name": "stdout",
     "output_type": "stream",
     "text": [
      "Enter sentence: The book is not too good!\n",
      "The book is not excellent!\n"
     ]
    }
   ],
   "source": [
    "#medium4\n",
    "s=input(\"Enter sentence: \")\n",
    "r=\" too good\"\n",
    "if r in s:\n",
    "    s=s.replace(\" too good\",\" excellent\")\n",
    "    print(s)\n",
    "else:\n",
    "    print(s)"
   ]
  },
  {
   "cell_type": "code",
   "execution_count": 9,
   "metadata": {},
   "outputs": [
    {
     "name": "stdout",
     "output_type": "stream",
     "text": [
      "Enter string1: hi\n",
      "Enter string2: oh\n",
      "{'h'}\n"
     ]
    }
   ],
   "source": [
    "#hard1\n",
    "a=input(\"Enter string1: \")\n",
    "b=input(\"Enter string2: \")\n",
    "a=a.lower()\n",
    "b=b.lower()\n",
    "s1=set(a)\n",
    "s2=set(b)\n",
    "n=s1&s2\n",
    "if n==\"\":\n",
    "    print(\"Nothing in common\")\n",
    "else:\n",
    "    print(n)"
   ]
  },
  {
   "cell_type": "code",
   "execution_count": 10,
   "metadata": {},
   "outputs": [
    {
     "name": "stdout",
     "output_type": "stream",
     "text": [
      "Enter word: fixprefixsuffix\n",
      "fix"
     ]
    }
   ],
   "source": [
    "#hard2\n",
    "s=input(\"Enter word: \")\n",
    "k=len(s)\n",
    "if s[0]==s[k-3] and s[1]==s[k-2] and s[2]==s[k-1]:\n",
    "    print(s[0],end=\"\")\n",
    "    print(s[1],end=\"\")\n",
    "    print(s[2],end=\"\")\n",
    "else:\n",
    "    print(\"Not Palindrome Substring\")"
   ]
  },
  {
   "cell_type": "code",
   "execution_count": 15,
   "metadata": {},
   "outputs": [
    {
     "name": "stdout",
     "output_type": "stream",
     "text": [
      "Enter word: Ohmybr@cu20\n",
      "OK\n"
     ]
    }
   ],
   "source": [
    "#Hard3\n",
    "s=input(\"Enter word: \")\n",
    "sc=0\n",
    "uc=0\n",
    "n=0\n",
    "sp_chr=[\"@\",\"_\",\"#\",\"$\"]\n",
    "num=[\"0\",\"1\",\"2\",\"3\",\"4\",\"5\",\"6\",\"7\",\"8\",\"9\"]\n",
    "a=0\n",
    "for i in range(0,len(s)):\n",
    "    if s[i]==s[i].lower():\n",
    "        sc+=1\n",
    "    if s[i]==s[i].upper():\n",
    "        uc+=1\n",
    "    if s[i] in num:\n",
    "        n+=1\n",
    "    if s[i] in sp_chr:\n",
    "        a+=1\n",
    "if sc==0:\n",
    "    print(\"Small Case Missing\")\n",
    "elif uc==0:\n",
    "    print(\"Upper Case Missing\")\n",
    "elif n==0:\n",
    "    print(\"Digit Missing\")\n",
    "elif uc==0:\n",
    "    print(\"Special Case Missing\")\n",
    "else:\n",
    "    print(\"OK\")\n"
   ]
  }
 ],
 "metadata": {
  "kernelspec": {
   "display_name": "Python 3",
   "language": "python",
   "name": "python3"
  },
  "language_info": {
   "codemirror_mode": {
    "name": "ipython",
    "version": 3
   },
   "file_extension": ".py",
   "mimetype": "text/x-python",
   "name": "python",
   "nbconvert_exporter": "python",
   "pygments_lexer": "ipython3",
   "version": "3.7.6"
  }
 },
 "nbformat": 4,
 "nbformat_minor": 4
}
