{
 "cells": [
  {
   "cell_type": "code",
   "execution_count": 2,
   "metadata": {},
   "outputs": [
    {
     "name": "stdout",
     "output_type": "stream",
     "text": [
      "a: 100, b: 200, c: 300, d: 400\n",
      "100\n",
      "True\n",
      "100\n",
      "True\n",
      "300\n",
      "True\n",
      "stop\n"
     ]
    }
   ],
   "source": [
    "#easy1\n",
    "a=input().split(',')\n",
    "dict={}\n",
    "for i in a:\n",
    "    x=i.split(':')\n",
    "    dict[x[0]]=int(x[1])\n",
    "while True:\n",
    "    n=input().upper()\n",
    "    if n==\"STOP\":\n",
    "        break\n",
    "    else:\n",
    "        n=int(n)\n",
    "        if n in dict.values():\n",
    "            print('True')\n",
    "        else:\n",
    "            print('False')"
   ]
  },
  {
   "cell_type": "code",
   "execution_count": 9,
   "metadata": {},
   "outputs": [
    {
     "name": "stdout",
     "output_type": "stream",
     "text": [
      "Physics: 82, Math : 65,History: 75\n",
      "Minimum:  Math \n",
      "Maximum: Physics\n"
     ]
    }
   ],
   "source": [
    "#easy2\n",
    "import math\n",
    "a={}\n",
    "\n",
    "a1=list(input().split(','))\n",
    "max=-math.inf\n",
    "min=math.inf\n",
    "\n",
    "\n",
    "for i in a1:\n",
    "    x=i.split(':')\n",
    "    a[x[0]]=int(x[1])\n",
    "    \n",
    "    \n",
    "for x,y in a.items():\n",
    "    if y>max:\n",
    "        max=y\n",
    "        maxindex=x\n",
    "    else:\n",
    "        if min>y:\n",
    "            min=y\n",
    "            minindex=x\n",
    "        \n",
    "print('Minimum:',minindex)\n",
    "\n",
    "print('Maximum:',maxindex)\n",
    "\n"
   ]
  },
  {
   "cell_type": "code",
   "execution_count": null,
   "metadata": {},
   "outputs": [
    {
     "name": "stdout",
     "output_type": "stream",
     "text": [
      "45\n",
      "86\n",
      "96\n",
      "12\n",
      "45\n",
      "Enter another number\n"
     ]
    }
   ],
   "source": [
    "#easy3\n",
    "a={}\n",
    "i=0\n",
    "while i<10:\n",
    "    n=int(input())\n",
    "    if n in a.values():\n",
    "        i-=1\n",
    "        print('Enter another number')\n",
    "    else:\n",
    "        a.update({i:n})\n",
    "    i+=1    \n",
    "    "
   ]
  },
  {
   "cell_type": "code",
   "execution_count": null,
   "metadata": {},
   "outputs": [],
   "source": [
    "#medium1\n",
    "\n",
    "a={}\n",
    "a1=list(input().split(','))\n",
    "for i in a1:\n",
    "    x=i.split(':')\n",
    "    a[x[0]]=int(x[1])    \n",
    "b={}\n",
    "b1=list(input().split(','))\n",
    "for i in b1:\n",
    "    x=i.split(':')\n",
    "    b[x[0]]=int(x[1])  \n",
    "\n",
    "\n",
    "for key in b:\n",
    "    if key in a:\n",
    "        b[key]=b[key]+a[key] #a:100,b:100,c:200,d:300\n",
    "dic={**a,**b} \n",
    "new=b.copy()\n",
    "for x,y in a.items():\n",
    "    if i not in b:\n",
    "        new[x]=y\n",
    "print(new)        \n",
    "    \n",
    "x=[]  \n",
    "for i in dic.values():\n",
    "    if i not in x:\n",
    "        x.append(i)\n",
    "x.sort()\n",
    "x=tuple(x)\n",
    "print(\"Values:\",x)\n",
    "    "
   ]
  },
  {
   "cell_type": "code",
   "execution_count": 1,
   "metadata": {},
   "outputs": [
    {
     "name": "stdout",
     "output_type": "stream",
     "text": [
      "10\n",
      "45\n",
      "10\n",
      "STOP\n",
      "10 - 2 times\n",
      "45 - 1 times\n"
     ]
    }
   ],
   "source": [
    "#medium2\n",
    "s=input()\n",
    "a={}\n",
    "while s!=\"STOP\":\n",
    "    if s in a:\n",
    "        a[s]+=1\n",
    "    else:\n",
    "        a[s]=1\n",
    "    s=input()\n",
    "for i in a:\n",
    "    print(i,'-',a[i],'times')\n",
    "        "
   ]
  },
  {
   "cell_type": "code",
   "execution_count": 5,
   "metadata": {},
   "outputs": [
    {
     "name": "stdout",
     "output_type": "stream",
     "text": [
      "key1 : value1, key2 : value2, key3 : value1\n",
      "{' value1': ['key1 ', ' key3 '], ' value2': [' key2 ']}\n"
     ]
    }
   ],
   "source": [
    "\n",
    "#medium3\n",
    "ans={}\n",
    "Dict={}\n",
    "s=input().split(',')\n",
    "for i in s:\n",
    "    x=i.split(':')\n",
    "    Dict[x[0]]=x[1]\n",
    "for a,b in Dict.items():\n",
    "  if b in ans:\n",
    "    ans[b].append(a)\n",
    "  else:\n",
    "    ans[b] = [a]\n",
    "print(ans)"
   ]
  },
  {
   "cell_type": "code",
   "execution_count": null,
   "metadata": {},
   "outputs": [],
   "source": [
    "#hard1\n",
    "s1=input().lower()\n",
    "s2=input().lower()\n",
    "s1=sorted(s1)\n",
    "s2=sorted(s2)\n",
    "a={}\n",
    "b={}\n",
    "for i in range(len(s1)):\n",
    "    a[i]=s1[i]\n",
    "for i in range(len(s1)):\n",
    "    b[i]=s2[i]    \n",
    "if len(a)==len(b):\n",
    "    c=0\n",
    "    for i in range(len(a)):\n",
    "        if a[i]==b[i]:\n",
    "            c+=1\n",
    "        else:\n",
    "            continue\n",
    "    if c==len(b):\n",
    "        print('Those strings are anagram')\n",
    "    else:\n",
    "        print('Those strings are not anagram')\n",
    "else:\n",
    "    print('Those strings are not anagram')"
   ]
  },
  {
   "cell_type": "code",
   "execution_count": 6,
   "metadata": {},
   "outputs": [
    {
     "name": "stdout",
     "output_type": "stream",
     "text": [
      "Hello, World!\n",
      "4433555555666110966677755531111\n"
     ]
    }
   ],
   "source": [
    "#HARD2\n",
    "a={0:\" \",1:\".,?!:\",2:\"ABC\",3:\"DEF\",4:\"GHI\",5:\"JKL\",6:\"MNO\",7:\"PQRS\",8:\"TUV\",9:\"WXYZ\"}\n",
    "s=input().upper()\n",
    "c=\"\"\n",
    "for i in s:\n",
    "    for x,y in a.items():\n",
    "        if i in y:\n",
    "            idx=y.index(i)+1\n",
    "            c+=str(x)*idx\n",
    "print(c)       "
   ]
  },
  {
   "cell_type": "code",
   "execution_count": null,
   "metadata": {},
   "outputs": [],
   "source": []
  }
 ],
 "metadata": {
  "kernelspec": {
   "display_name": "Python 3",
   "language": "python",
   "name": "python3"
  },
  "language_info": {
   "codemirror_mode": {
    "name": "ipython",
    "version": 3
   },
   "file_extension": ".py",
   "mimetype": "text/x-python",
   "name": "python",
   "nbconvert_exporter": "python",
   "pygments_lexer": "ipython3",
   "version": "3.7.6"
  }
 },
 "nbformat": 4,
 "nbformat_minor": 4
}
